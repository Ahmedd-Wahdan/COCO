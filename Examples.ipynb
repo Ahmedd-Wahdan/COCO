{
 "cells": [
  {
   "cell_type": "markdown",
   "id": "f067ce0f",
   "metadata": {},
   "source": [
    "# BRIEF\n",
    "IT NOW CAN PERFORM REGRESSION AND multi class CLASSIFICATION\n",
    "\n"
   ]
  },
  {
   "cell_type": "markdown",
   "id": "66146b8c",
   "metadata": {},
   "source": []
  },
  {
   "cell_type": "code",
   "execution_count": 1,
   "id": "68f5cced",
   "metadata": {
    "ExecuteTime": {
     "end_time": "2025-02-05T12:49:45.975100Z",
     "start_time": "2025-02-05T12:49:38.574724Z"
    }
   },
   "outputs": [],
   "source": [
    "import torch\n",
    "import torch.nn as nn\n",
    "import torch.optim as optim\n",
    "from torch.utils.data import DataLoader\n",
    "import torchvision\n",
    "import torchvision.transforms as transforms\n",
    "import time\n",
    "import numpy as np\n",
    "from sklearn.datasets import fetch_openml\n",
    "from sklearn.preprocessing import OneHotEncoder\n",
    "from core.nn import Linear,batchnorm1d,Conv2d,MaxPool2d\n",
    "from core.Models import Model\n",
    "from core.Function import tanh,relu,softmax"
   ]
  },
  {
   "cell_type": "code",
   "execution_count": 2,
   "id": "27935ed0",
   "metadata": {
    "ExecuteTime": {
     "end_time": "2025-02-05T12:49:54.019034Z",
     "start_time": "2025-02-05T12:49:45.980132Z"
    }
   },
   "outputs": [
    {
     "name": "stdout",
     "output_type": "stream",
     "text": [
      "Train images shape: (60000, 784)\n",
      "Train labels shape: (60000, 10)\n",
      "Test images shape: (10000, 784)\n",
      "Test labels shape: (10000, 10)\n"
     ]
    }
   ],
   "source": [
    "\n",
    "\n",
    "# Load Fashion MNIST dataset using Scikit-Learn\n",
    "fashion_mnist = fetch_openml('Fashion-MNIST', version=1, as_frame=False)\n",
    "images, labels = fashion_mnist[\"data\"], fashion_mnist[\"target\"].astype(int)\n",
    "\n",
    "# Normalize pixel values to the range [0, 1]\n",
    "images = images.astype('float32') / 255.0\n",
    "\n",
    "# Reshape images from (num_samples, 784) to (num_samples, 1, 28, 28)\n",
    "images = images.reshape((-1, 28*28))  # Convert to 4D for Conv2D: [B, C, H, W]\n",
    "\n",
    "# Split into train and test sets\n",
    "train_images_2d, test_images_2d = images[:60000], images[60000:]\n",
    "train_labels_2d, test_labels_2d = labels[:60000], labels[60000:]\n",
    "\n",
    "# One-hot encode the labels\n",
    "encoder = OneHotEncoder()\n",
    "train_labels_2d = encoder.fit_transform(train_labels_2d.reshape(-1, 1)).toarray()\n",
    "test_labels_2d = encoder.transform(test_labels_2d.reshape(-1, 1)).toarray()\n",
    "\n",
    "# Print shapes to verify\n",
    "print(\"Train images shape:\", train_images_2d.shape)  # (60000, 784)\n",
    "print(\"Train labels shape:\", train_labels_2d.shape)  # (60000, 10)\n",
    "print(\"Test images shape:\", test_images_2d.shape)    # (10000, 784)\n",
    "print(\"Test labels shape:\", test_labels_2d.shape)    # (10000, 10)\n"
   ]
  },
  {
   "cell_type": "code",
   "execution_count": 3,
   "id": "209c7fe2",
   "metadata": {
    "ExecuteTime": {
     "end_time": "2025-02-05T12:50:10.795931Z",
     "start_time": "2025-02-05T12:49:54.021085Z"
    }
   },
   "outputs": [
    {
     "name": "stdout",
     "output_type": "stream",
     "text": [
      "Downloading http://fashion-mnist.s3-website.eu-central-1.amazonaws.com/train-images-idx3-ubyte.gz\n",
      "Downloading http://fashion-mnist.s3-website.eu-central-1.amazonaws.com/train-images-idx3-ubyte.gz to ./data\\FashionMNIST\\raw\\train-images-idx3-ubyte.gz\n"
     ]
    },
    {
     "name": "stderr",
     "output_type": "stream",
     "text": [
      "100%|██████████| 26.4M/26.4M [00:10<00:00, 2.43MB/s]\n"
     ]
    },
    {
     "name": "stdout",
     "output_type": "stream",
     "text": [
      "Extracting ./data\\FashionMNIST\\raw\\train-images-idx3-ubyte.gz to ./data\\FashionMNIST\\raw\n",
      "\n",
      "Downloading http://fashion-mnist.s3-website.eu-central-1.amazonaws.com/train-labels-idx1-ubyte.gz\n",
      "Downloading http://fashion-mnist.s3-website.eu-central-1.amazonaws.com/train-labels-idx1-ubyte.gz to ./data\\FashionMNIST\\raw\\train-labels-idx1-ubyte.gz\n"
     ]
    },
    {
     "name": "stderr",
     "output_type": "stream",
     "text": [
      "100%|██████████| 29.5k/29.5k [00:00<00:00, 428kB/s]\n"
     ]
    },
    {
     "name": "stdout",
     "output_type": "stream",
     "text": [
      "Extracting ./data\\FashionMNIST\\raw\\train-labels-idx1-ubyte.gz to ./data\\FashionMNIST\\raw\n",
      "\n",
      "Downloading http://fashion-mnist.s3-website.eu-central-1.amazonaws.com/t10k-images-idx3-ubyte.gz\n",
      "Downloading http://fashion-mnist.s3-website.eu-central-1.amazonaws.com/t10k-images-idx3-ubyte.gz to ./data\\FashionMNIST\\raw\\t10k-images-idx3-ubyte.gz\n"
     ]
    },
    {
     "name": "stderr",
     "output_type": "stream",
     "text": [
      "100%|██████████| 4.42M/4.42M [00:03<00:00, 1.23MB/s]\n"
     ]
    },
    {
     "name": "stdout",
     "output_type": "stream",
     "text": [
      "Extracting ./data\\FashionMNIST\\raw\\t10k-images-idx3-ubyte.gz to ./data\\FashionMNIST\\raw\n",
      "\n",
      "Downloading http://fashion-mnist.s3-website.eu-central-1.amazonaws.com/t10k-labels-idx1-ubyte.gz\n",
      "Downloading http://fashion-mnist.s3-website.eu-central-1.amazonaws.com/t10k-labels-idx1-ubyte.gz to ./data\\FashionMNIST\\raw\\t10k-labels-idx1-ubyte.gz\n"
     ]
    },
    {
     "name": "stderr",
     "output_type": "stream",
     "text": [
      "100%|██████████| 5.15k/5.15k [00:00<00:00, 2.55MB/s]"
     ]
    },
    {
     "name": "stdout",
     "output_type": "stream",
     "text": [
      "Extracting ./data\\FashionMNIST\\raw\\t10k-labels-idx1-ubyte.gz to ./data\\FashionMNIST\\raw\n"
     ]
    },
    {
     "name": "stderr",
     "output_type": "stream",
     "text": [
      "\n"
     ]
    }
   ],
   "source": [
    "class FashionMNISTModel(nn.Module):\n",
    "    def __init__(self):\n",
    "        super(FashionMNISTModel, self).__init__()\n",
    "        self.conv1 = nn.Conv2d(in_channels=1, out_channels=8, kernel_size=3, stride=1, padding=1)\n",
    "        self.tanh1 = nn.Tanh()\n",
    "        self.max1 = nn.MaxPool2d(kernel_size=2, stride=2)\n",
    "        self.conv2 = nn.Conv2d(in_channels=8, out_channels=16, kernel_size=3, stride=1, padding=1)\n",
    "        self.tanh2 = nn.Tanh()\n",
    "        self.max2 = nn.MaxPool2d(kernel_size=2, stride=2)\n",
    "        self.flatten = nn.Flatten()\n",
    "        self.fc1 = nn.Linear(16 * 7 * 7, 50)  # Fully connected layer\n",
    "        self.tanh3 = nn.Tanh()\n",
    "        self.fc2 = nn.Linear(50, 10)\n",
    "        \n",
    "\n",
    "    def forward(self, x):\n",
    "       \n",
    "        x = self.conv1(x)\n",
    "      \n",
    "        x = self.tanh1(x)\n",
    "      \n",
    "        x = self.max1(x)\n",
    "        \n",
    "        x = self.conv2(x)\n",
    "        x = self.tanh2(x)\n",
    "        x = self.max2(x)\n",
    "        x = self.flatten(x)\n",
    "        x = self.fc1(x)\n",
    "        x = self.tanh3(x)\n",
    "        x = self.fc2(x)\n",
    "        \n",
    "        return x\n",
    "\n",
    "# Transform for normalizing the data\n",
    "transform = transforms.Compose([\n",
    "    transforms.ToTensor(),  # Convert image to PyTorch tensor\n",
    "    transforms.Normalize((0.5,), (0.5,))  # Normalize with mean 0.5 and std 0.5\n",
    "])\n",
    "\n",
    "# Load the FashionMNIST dataset from torchvision\n",
    "trainset = torchvision.datasets.FashionMNIST(root='./data', train=True, download=True, transform=transform)\n",
    "testset = torchvision.datasets.FashionMNIST(root='./data', train=False, download=True, transform=transform)\n",
    "\n",
    "# Create DataLoader for training and test datasets\n",
    "train_loader = DataLoader(trainset, batch_size=64, shuffle=True)\n",
    "test_loader = DataLoader(testset, batch_size=64, shuffle=False)\n",
    "\n",
    "# Instantiate the model, loss function, and optimizer\n",
    "model = FashionMNISTModel()\n",
    "criterion = nn.CrossEntropyLoss()  # Use raw class labels for CrossEntropyLoss\n",
    "optimizer = optim.SGD(model.parameters(), lr=0.001)\n"
   ]
  },
  {
   "cell_type": "code",
   "execution_count": 4,
   "id": "e237b2fa",
   "metadata": {
    "ExecuteTime": {
     "end_time": "2025-02-05T12:50:18.721790Z",
     "start_time": "2025-02-05T12:50:10.798456Z"
    }
   },
   "outputs": [
    {
     "name": "stdout",
     "output_type": "stream",
     "text": [
      "Train images shape: (60000, 1, 28, 28)\n",
      "Train labels shape: (60000, 10)\n",
      "Test images shape: (10000, 1, 28, 28)\n",
      "Test labels shape: (10000, 10)\n"
     ]
    }
   ],
   "source": [
    "\n",
    "\n",
    "# Load Fashion MNIST dataset using Scikit-Learn\n",
    "fashion_mnist = fetch_openml('Fashion-MNIST', version=1, as_frame=False)\n",
    "images, labels = fashion_mnist[\"data\"], fashion_mnist[\"target\"].astype(int)\n",
    "\n",
    "# Normalize pixel values to the range [0, 1]\n",
    "images = images.astype('float32') / 255.0\n",
    "\n",
    "# Reshape images from (num_samples, 784) to (num_samples, 1, 28, 28)\n",
    "images = images.reshape((-1, 1, 28, 28))  # Convert to 4D for Conv2D: [B, C, H, W]\n",
    "\n",
    "# Split into train and test sets\n",
    "train_images, test_images = images[:60000], images[60000:]\n",
    "train_labels, test_labels = labels[:60000], labels[60000:]\n",
    "\n",
    "# One-hot encode the labels\n",
    "encoder = OneHotEncoder()\n",
    "train_labels = encoder.fit_transform(train_labels.reshape(-1, 1)).toarray()\n",
    "test_labels = encoder.transform(test_labels.reshape(-1, 1)).toarray()\n",
    "\n",
    "# Print shapes to verify\n",
    "print(\"Train images shape:\", train_images.shape)  # (60000, 1, 28, 28)\n",
    "print(\"Train labels shape:\", train_labels.shape)  # (60000, 10)\n",
    "print(\"Test images shape:\", test_images.shape)    # (10000, 1, 28, 28)\n",
    "print(\"Test labels shape:\", test_labels.shape)    # (10000, 10)\n"
   ]
  },
  {
   "cell_type": "code",
   "execution_count": 5,
   "id": "b4e16287",
   "metadata": {
    "ExecuteTime": {
     "end_time": "2025-02-05T13:02:50.431798Z",
     "start_time": "2025-02-05T12:50:18.725957Z"
    }
   },
   "outputs": [
    {
     "name": "stdout",
     "output_type": "stream",
     "text": [
      "Model Summary:\n",
      "==================================================\n",
      "conv1: Conv2d\n",
      "  Weights: (8, 1, 3, 3)\n",
      "  Bias: (1, 8, 1, 1)\n",
      "tanh1: tanh\n",
      "max1: MaxPool2d\n",
      "conv2: Conv2d\n",
      "  Weights: (16, 8, 3, 3)\n",
      "  Bias: (1, 16, 1, 1)\n",
      "tanh2: tanh\n",
      "max2: MaxPool2d\n",
      "linear1: Linear\n",
      "  Weights: (784, 50)\n",
      "  Bias: (1, 50)\n",
      "tanh3: tanh\n",
      "linear2: Linear\n",
      "  Weights: (50, 10)\n",
      "  Bias: (1, 10)\n",
      "softmaxx: softmax\n",
      "==================================================\n",
      "Epoch 1/10 | Epoch Loss = 2.0525\n",
      "Epoch 2/10 | Epoch Loss = 1.4002\n",
      "Epoch 3/10 | Epoch Loss = 1.0586\n",
      "Epoch 4/10 | Epoch Loss = 0.9119\n",
      "Epoch 5/10 | Epoch Loss = 0.8266\n",
      "Epoch 6/10 | Epoch Loss = 0.7688\n",
      "Epoch 7/10 | Epoch Loss = 0.7264\n",
      "Epoch 8/10 | Epoch Loss = 0.6940\n",
      "Epoch 9/10 | Epoch Loss = 0.6682\n",
      "Epoch 10/10 | Epoch Loss = 0.6470\n",
      "\n",
      "Function train took 751.6837 minutes to execute.\n"
     ]
    }
   ],
   "source": [
    "class model(Model):\n",
    "    def __init__(self):\n",
    "        super().__init__()\n",
    "        self.conv1 = Conv2d(input_channels=1, output_channels=8, kernel_size=3, stride=1, padding=1,initialize_type='xavier')\n",
    "        self.tanh1 = tanh()\n",
    "        self.max1 = MaxPool2d(kernel_size=2, stride=2)\n",
    "        self.conv2 = Conv2d(input_channels=8, output_channels=16, kernel_size=3, stride=1, padding=1,initialize_type='xavier')\n",
    "        self.tanh2 = tanh()\n",
    "        self.max2 = MaxPool2d(kernel_size=2, stride=2)\n",
    "        self.linear1 = Linear((16 * 7 * 7,50),initialize_type='xavier')\n",
    "        self.tanh3 = tanh()\n",
    "        self.linear2 = Linear((50,10),initialize_type='xavier')\n",
    "        self.softmaxx = softmax()\n",
    "\n",
    "    def forward(self, x):\n",
    "        i = x\n",
    "        x = self.conv1(x)\n",
    "        x = self.tanh1(x)\n",
    "        x = x + i  \n",
    "        x = self.max1(x)\n",
    "        x = self.conv2(x)\n",
    "        x = self.tanh2(x)\n",
    "        x = self.max2(x)\n",
    "        x = self.linear1(x)\n",
    "        x = self.tanh3(x)\n",
    "        x = self.linear2(x)\n",
    "        x = self.softmaxx(x)\n",
    "        return x\n",
    "    \n",
    "\n",
    "model_coco = model()\n",
    "model_coco.summary()\t\n",
    "\n",
    "model_coco.train(train_images, train_labels, epochs=10, batch_size=64, learning_rate=0.001, optimizer=\"sgd\",verbose=1)"
   ]
  },
  {
   "cell_type": "code",
   "execution_count": 5,
   "id": "2ec8179d",
   "metadata": {
    "ExecuteTime": {
     "end_time": "2025-02-05T13:02:50.437810Z",
     "start_time": "2025-02-05T13:02:50.433807Z"
    }
   },
   "outputs": [],
   "source": []
  },
  {
   "cell_type": "code",
   "execution_count": 8,
   "id": "7fd36d54",
   "metadata": {
    "ExecuteTime": {
     "end_time": "2025-02-05T13:05:51.342355Z",
     "start_time": "2025-02-05T13:05:44.398294Z"
    }
   },
   "outputs": [
    {
     "name": "stdout",
     "output_type": "stream",
     "text": [
      "ypred_shape (10000, 1)\n",
      "y_true_shape (10000, 1)\n",
      "Accuracy on test set: 0.7692\n"
     ]
    }
   ],
   "source": [
    "# Reshape test data for Conv2d input (example for MNIST)\n",
    "test_images_4d = test_images.reshape(-1, 1, 28, 28)  # Adjust dimensions as needed\n",
    "\n",
    "# Predict\n",
    "y_pred = model_coco(test_images_4d)\n",
    "y_pred_classes = np.argmax(y_pred, axis=1, keepdims=True)\n",
    "\n",
    "# Use integer labels directly (if test_labels are not one-hot)\n",
    "y_true_classes = np.argmax(test_labels, axis=1, keepdims=True)  # Assuming test_labels are integers\n",
    "print(\"ypred_shape\",y_pred_classes.shape)\n",
    "print(\"y_true_shape\",y_true_classes.shape)\n",
    "# Calculate accuracy\n",
    "accuracy = np.mean(y_pred_classes == y_true_classes)\n",
    "print(f\"Accuracy on test set: {accuracy:.4f}\")"
   ]
  },
  {
   "cell_type": "code",
   "execution_count": 7,
   "id": "3f4dee22",
   "metadata": {
    "ExecuteTime": {
     "end_time": "2025-02-05T13:02:57.181941Z",
     "start_time": "2025-02-05T13:02:56.312138Z"
    }
   },
   "outputs": [
    {
     "ename": "TypeError",
     "evalue": "Model.train() missing 3 required positional arguments: 'self', 'x_train', and 'y_train'",
     "output_type": "error",
     "traceback": [
      "\u001b[1;31m---------------------------------------------------------------------------\u001b[0m",
      "\u001b[1;31mTypeError\u001b[0m                                 Traceback (most recent call last)",
      "Cell \u001b[1;32mIn[7], line 27\u001b[0m\n\u001b[0;32m     21\u001b[0m         \u001b[38;5;28mprint\u001b[39m(\u001b[38;5;124mf\u001b[39m\u001b[38;5;124m'\u001b[39m\u001b[38;5;124mEpoch \u001b[39m\u001b[38;5;132;01m{\u001b[39;00mepoch\u001b[38;5;132;01m}\u001b[39;00m\u001b[38;5;124m/\u001b[39m\u001b[38;5;132;01m{\u001b[39;00mepochs\u001b[38;5;132;01m}\u001b[39;00m\u001b[38;5;124m, Loss: \u001b[39m\u001b[38;5;132;01m{\u001b[39;00mavg_loss\u001b[38;5;132;01m:\u001b[39;00m\u001b[38;5;124m.4f\u001b[39m\u001b[38;5;132;01m}\u001b[39;00m\u001b[38;5;124m'\u001b[39m)\n\u001b[0;32m     23\u001b[0m \u001b[38;5;66;03m# Testing loop\u001b[39;00m\n\u001b[0;32m     24\u001b[0m \n\u001b[0;32m     25\u001b[0m \n\u001b[0;32m     26\u001b[0m \u001b[38;5;66;03m# Train the model\u001b[39;00m\n\u001b[1;32m---> 27\u001b[0m train_model(model, train_loader, epochs\u001b[38;5;241m=\u001b[39m\u001b[38;5;241m10\u001b[39m, optimizer\u001b[38;5;241m=\u001b[39moptimizer, criterion\u001b[38;5;241m=\u001b[39mcriterion)\n",
      "Cell \u001b[1;32mIn[7], line 4\u001b[0m, in \u001b[0;36mtrain_model\u001b[1;34m(model, train_loader, epochs, optimizer, criterion)\u001b[0m\n\u001b[0;32m      3\u001b[0m \u001b[38;5;28;01mdef\u001b[39;00m \u001b[38;5;21mtrain_model\u001b[39m(model, train_loader, epochs, optimizer, criterion):\n\u001b[1;32m----> 4\u001b[0m     model\u001b[38;5;241m.\u001b[39mtrain()  \u001b[38;5;66;03m# Set model to training mode\u001b[39;00m\n\u001b[0;32m      5\u001b[0m     \u001b[38;5;28;01mfor\u001b[39;00m epoch \u001b[38;5;129;01min\u001b[39;00m \u001b[38;5;28mrange\u001b[39m(\u001b[38;5;241m1\u001b[39m, epochs \u001b[38;5;241m+\u001b[39m \u001b[38;5;241m1\u001b[39m):\n\u001b[0;32m      6\u001b[0m         epoch_loss \u001b[38;5;241m=\u001b[39m \u001b[38;5;241m0.0\u001b[39m\n",
      "File \u001b[1;32mD:\\Code\\COCO\\core\\wrapper.py:8\u001b[0m, in \u001b[0;36mtiming_decorator.<locals>.wrapper\u001b[1;34m(*args, **kwargs)\u001b[0m\n\u001b[0;32m      6\u001b[0m \u001b[38;5;28;01mdef\u001b[39;00m \u001b[38;5;21mwrapper\u001b[39m(\u001b[38;5;241m*\u001b[39margs, \u001b[38;5;241m*\u001b[39m\u001b[38;5;241m*\u001b[39mkwargs):\n\u001b[0;32m      7\u001b[0m     start_time \u001b[38;5;241m=\u001b[39m time\u001b[38;5;241m.\u001b[39mtime()\n\u001b[1;32m----> 8\u001b[0m     result \u001b[38;5;241m=\u001b[39m func(\u001b[38;5;241m*\u001b[39margs, \u001b[38;5;241m*\u001b[39m\u001b[38;5;241m*\u001b[39mkwargs)\n\u001b[0;32m      9\u001b[0m     end_time \u001b[38;5;241m=\u001b[39m time\u001b[38;5;241m.\u001b[39mtime()\n\u001b[0;32m     10\u001b[0m     execution_time \u001b[38;5;241m=\u001b[39m end_time \u001b[38;5;241m-\u001b[39m start_time\n",
      "\u001b[1;31mTypeError\u001b[0m: Model.train() missing 3 required positional arguments: 'self', 'x_train', and 'y_train'"
     ]
    }
   ],
   "source": [
    "\n",
    "# Training loop\n",
    "\n",
    "def train_model(model, train_loader, epochs, optimizer, criterion):\n",
    "    model.train()  # Set model to training mode\n",
    "    for epoch in range(1, epochs + 1):\n",
    "        epoch_loss = 0.0\n",
    "        for images, labels in train_loader:\n",
    "            optimizer.zero_grad()  # Zero gradients\n",
    "          \n",
    "            outputs = model(images)\n",
    "        \n",
    "            \n",
    "            loss = criterion(outputs, labels)  # Labels are in class indices format\n",
    "          \n",
    "            loss.backward()\n",
    "        \n",
    "            optimizer.step()\n",
    "            epoch_loss += loss.item()\n",
    "\n",
    "        avg_loss = epoch_loss / len(train_loader)\n",
    "        print(f'Epoch {epoch}/{epochs}, Loss: {avg_loss:.4f}')\n",
    "\n",
    "# Testing loop\n",
    "\n",
    "\n",
    "# Train the model\n",
    "train_model(model, train_loader, epochs=10, optimizer=optimizer, criterion=criterion)\n",
    "\n",
    "# Test the model on test data\n",
    "\n"
   ]
  },
  {
   "cell_type": "code",
   "execution_count": null,
   "id": "713583cf",
   "metadata": {},
   "outputs": [],
   "source": [
    "def test_model(model, test_loader):\n",
    "    model.eval()  # Set model to evaluation mode\n",
    "    correct = 0\n",
    "    total = 0\n",
    "    with torch.no_grad():  # Disable gradient calculation for testing\n",
    "        for images, labels in test_loader:\n",
    "            outputs = model(images)\n",
    "            _, predicted = torch.max(outputs, 1)  # Get the class with the highest probability\n",
    "            total += labels.size(0)\n",
    "            correct += (predicted == labels).sum().item()\n",
    "\n",
    "    accuracy = 100 * correct / total\n",
    "    print(f'Test Accuracy: {accuracy:.2f}%')\n",
    "\n",
    "test_model(model, test_loader)"
   ]
  },
  {
   "cell_type": "code",
   "execution_count": null,
   "id": "16f49542",
   "metadata": {
    "ExecuteTime": {
     "start_time": "2025-02-05T13:02:57.185477Z"
    }
   },
   "outputs": [],
   "source": []
  },
  {
   "cell_type": "code",
   "execution_count": null,
   "id": "3f02435e",
   "metadata": {
    "ExecuteTime": {
     "start_time": "2025-02-05T13:02:57.187480Z"
    }
   },
   "outputs": [],
   "source": []
  }
 ],
 "metadata": {
  "kernelspec": {
   "display_name": "deeplearning",
   "language": "python",
   "name": "python3"
  },
  "language_info": {
   "codemirror_mode": {
    "name": "ipython",
    "version": 3
   },
   "file_extension": ".py",
   "mimetype": "text/x-python",
   "name": "python",
   "nbconvert_exporter": "python",
   "pygments_lexer": "ipython3",
   "version": "3.12.8"
  }
 },
 "nbformat": 4,
 "nbformat_minor": 5
}
