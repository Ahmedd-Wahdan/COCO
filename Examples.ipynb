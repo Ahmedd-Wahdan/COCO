{
 "cells": [
  {
   "cell_type": "markdown",
   "id": "f067ce0f",
   "metadata": {},
   "source": [
    "# BRIEF\n",
    "IT NOW CAN PERFORM REGRESSION AND multi class CLASSIFICATION\n",
    "\n"
   ]
  },
  {
   "cell_type": "markdown",
   "id": "66146b8c",
   "metadata": {},
   "source": []
  },
  {
   "cell_type": "code",
   "execution_count": 1,
   "id": "27935ed0",
   "metadata": {
    "ExecuteTime": {
     "end_time": "2025-02-03T16:36:01.650154Z",
     "start_time": "2025-02-03T16:35:50.029303Z"
    }
   },
   "outputs": [
    {
     "name": "stdout",
     "output_type": "stream",
     "text": [
      "Train images shape: (60000, 784)\n",
      "Train labels shape: (60000, 10)\n",
      "Test images shape: (10000, 784)\n",
      "Test labels shape: (10000, 10)\n"
     ]
    }
   ],
   "source": [
    "import numpy as np\n",
    "from sklearn.datasets import fetch_openml\n",
    "from sklearn.preprocessing import OneHotEncoder\n",
    "\n",
    "# Load Fashion MNIST dataset using Scikit-Learn\n",
    "fashion_mnist = fetch_openml('Fashion-MNIST', version=1, as_frame=False)\n",
    "images, labels = fashion_mnist[\"data\"], fashion_mnist[\"target\"].astype(int)\n",
    "\n",
    "# Normalize pixel values to the range [0, 1]\n",
    "images = images.astype('float32') / 255.0\n",
    "\n",
    "# Reshape images from (num_samples, 784) to (num_samples, 1, 28, 28)\n",
    "images = images.reshape((-1, 28*28))  # Convert to 4D for Conv2D: [B, C, H, W]\n",
    "\n",
    "# Split into train and test sets\n",
    "train_images_2d, test_images_2d = images[:60000], images[60000:]\n",
    "train_labels_2d, test_labels_2d = labels[:60000], labels[60000:]\n",
    "\n",
    "# One-hot encode the labels\n",
    "encoder = OneHotEncoder()\n",
    "train_labels_2d = encoder.fit_transform(train_labels_2d.reshape(-1, 1)).toarray()\n",
    "test_labels_2d = encoder.transform(test_labels_2d.reshape(-1, 1)).toarray()\n",
    "\n",
    "# Print shapes to verify\n",
    "print(\"Train images shape:\", train_images_2d.shape)  # (60000, 1, 28, 28)\n",
    "print(\"Train labels shape:\", train_labels_2d.shape)  # (60000, 10)\n",
    "print(\"Test images shape:\", test_images_2d.shape)    # (10000, 1, 28, 28)\n",
    "print(\"Test labels shape:\", test_labels_2d.shape)    # (10000, 10)\n"
   ]
  },
  {
   "cell_type": "code",
   "execution_count": 4,
   "id": "e237b2fa",
   "metadata": {
    "ExecuteTime": {
     "end_time": "2025-02-03T16:37:29.920056Z",
     "start_time": "2025-02-03T16:37:21.943865Z"
    }
   },
   "outputs": [
    {
     "name": "stdout",
     "output_type": "stream",
     "text": [
      "Train images shape: (60000, 1, 28, 28)\n",
      "Train labels shape: (60000, 10)\n",
      "Test images shape: (10000, 1, 28, 28)\n",
      "Test labels shape: (10000, 10)\n"
     ]
    }
   ],
   "source": [
    "import numpy as np\n",
    "from sklearn.datasets import fetch_openml\n",
    "from sklearn.preprocessing import OneHotEncoder\n",
    "\n",
    "# Load Fashion MNIST dataset using Scikit-Learn\n",
    "fashion_mnist = fetch_openml('Fashion-MNIST', version=1, as_frame=False)\n",
    "images, labels = fashion_mnist[\"data\"], fashion_mnist[\"target\"].astype(int)\n",
    "\n",
    "# Normalize pixel values to the range [0, 1]\n",
    "images = images.astype('float32') / 255.0\n",
    "\n",
    "# Reshape images from (num_samples, 784) to (num_samples, 1, 28, 28)\n",
    "images = images.reshape((-1, 1, 28, 28))  # Convert to 4D for Conv2D: [B, C, H, W]\n",
    "\n",
    "# Split into train and test sets\n",
    "train_images, test_images = images[:60000], images[60000:]\n",
    "train_labels, test_labels = labels[:60000], labels[60000:]\n",
    "\n",
    "# One-hot encode the labels\n",
    "encoder = OneHotEncoder()\n",
    "train_labels = encoder.fit_transform(train_labels.reshape(-1, 1)).toarray()\n",
    "test_labels = encoder.transform(test_labels.reshape(-1, 1)).toarray()\n",
    "\n",
    "# Print shapes to verify\n",
    "print(\"Train images shape:\", train_images.shape)  # (60000, 1, 28, 28)\n",
    "print(\"Train labels shape:\", train_labels.shape)  # (60000, 10)\n",
    "print(\"Test images shape:\", test_images.shape)    # (10000, 1, 28, 28)\n",
    "print(\"Test labels shape:\", test_labels.shape)    # (10000, 10)\n"
   ]
  },
  {
   "cell_type": "code",
   "execution_count": 3,
   "id": "41c7d4d6",
   "metadata": {},
   "outputs": [],
   "source": [
    "def gradient_check(model, X, Y, loss_fn, epsilon=1e-7, threshold=1e-5):\n",
    "    \"\"\"\n",
    "    Performs gradient checking for a given model.\n",
    "    \"\"\"\n",
    "    # Forward pass to compute initial loss\n",
    "    model.forward(X)\n",
    "    loss, grad_output = loss_fn(Y, model.last_out, axis=1)\n",
    "\n",
    "    # Backward pass to get analytical gradients (without optimizer step)\n",
    "    error_grad = grad_output\n",
    "    for layer in reversed(model.layers):\n",
    "        error_grad = layer.backward(error_grad)\n",
    "\n",
    "    for layer in model.layers:\n",
    "        if not hasattr(layer, 'weights') or layer.weights is None:\n",
    "            continue\n",
    "\n",
    "        W, grad_W = layer.weights, layer.grad_w\n",
    "\n",
    "        # ------ Numerical Gradient for Weights (element-wise) ------\n",
    "        numerical_grad_W = np.zeros_like(W)\n",
    "        original_weights = W.copy()\n",
    "\n",
    "        for idx in np.ndindex(W.shape):\n",
    "            # Perturb weight at idx by +epsilon\n",
    "            W[idx] += epsilon\n",
    "            model.forward(X)\n",
    "            loss_plus = loss_fn(Y, model.last_out, axis=1)[0]\n",
    "\n",
    "            # Perturb weight at idx by -epsilon\n",
    "            W[idx] = original_weights[idx] - epsilon\n",
    "            model.forward(X)\n",
    "            loss_minus = loss_fn(Y, model.last_out, axis=1)[0]\n",
    "\n",
    "            # Compute numerical gradient for this weight\n",
    "            numerical_grad_W[idx] = (loss_plus - loss_minus) / (2 * epsilon)\n",
    "            # Restore original weight\n",
    "            W[idx] = original_weights[idx]\n",
    "\n",
    "        # Compare analytical and numerical gradients\n",
    "        diff_W = np.linalg.norm(grad_W - numerical_grad_W) / (np.linalg.norm(grad_W) + np.linalg.norm(numerical_grad_W) + 1e-15)\n",
    "        passed = diff_W < threshold\n",
    "        print(f\"Layer {layer.__class__.__name__} (Weights): Gradient Check {'PASSED' if passed else 'FAILED'} (diff: {diff_W:.8e})\")\n",
    "        # # if not passed:\n",
    "        # print(f\"Numerical Gradient: {numerical_grad_W}\")\n",
    "        # print(f\"network Gradient: {grad_W}\")\n",
    "        # ------ Numerical Gradient for Biases (if present) ------\n",
    "        if hasattr(layer, 'bias') and layer.bias is not None:\n",
    "            b, grad_b = layer.bias, layer.grad_b\n",
    "            numerical_grad_b = np.zeros_like(b)\n",
    "            original_bias = b.copy()\n",
    "\n",
    "            for idx in np.ndindex(b.shape):\n",
    "                b[idx] += epsilon\n",
    "                model.forward(X)\n",
    "                loss_plus = loss_fn(Y, model.last_out, axis=1)[0]\n",
    "\n",
    "                b[idx] = original_bias[idx] - epsilon\n",
    "                model.forward(X)\n",
    "                loss_minus = loss_fn(Y, model.last_out, axis=1)[0]\n",
    "\n",
    "                numerical_grad_b[idx] = (loss_plus - loss_minus) / (2 * epsilon)\n",
    "                b[idx] = original_bias[idx]\n",
    "\n",
    "            diff_b = np.linalg.norm(grad_b - numerical_grad_b) / (np.linalg.norm(grad_b) + np.linalg.norm(numerical_grad_b) + 1e-15)\n",
    "            passed = diff_b < threshold\n",
    "            print(f\"Layer {layer.__class__.__name__} (Biases): Gradient Check {'PASSED' if passed else 'FAILED'} (diff: {diff_b:.8e})\\n \")\n",
    "            # if not passed:\n",
    "            # print(f\"Numerical Gradient: {numerical_grad_b}\")\n",
    "            # print(f\"network Gradient: {grad_b}\")\n",
    "                \n",
    "\n",
    "\n",
    "\n"
   ]
  },
  {
   "cell_type": "code",
   "execution_count": 5,
   "id": "b4e16287",
   "metadata": {
    "ExecuteTime": {
     "end_time": "2025-02-03T16:49:31.189808Z",
     "start_time": "2025-02-03T16:37:34.706800Z"
    }
   },
   "outputs": [
    {
     "name": "stdout",
     "output_type": "stream",
     "text": [
      "weights (784, 50)\n",
      "bias (1, 50)\n",
      "weights (50, 10)\n",
      "bias (1, 10)\n",
      "Epoch 1/10| Epoch Loss = 2.3003\n",
      "Epoch 2/10| Epoch Loss = 2.2937\n",
      "Epoch 3/10| Epoch Loss = 2.2794\n",
      "Epoch 4/10| Epoch Loss = 2.2375\n",
      "Epoch 5/10| Epoch Loss = 2.1029\n",
      "Epoch 6/10| Epoch Loss = 1.8299\n",
      "Epoch 7/10| Epoch Loss = 1.5713\n",
      "Epoch 8/10| Epoch Loss = 1.4013\n",
      "Epoch 9/10| Epoch Loss = 1.2831\n",
      "Epoch 10/10| Epoch Loss = 1.1898\n",
      "\n",
      "Function train took 716.4680 seconds to execute.\n"
     ]
    }
   ],
   "source": [
    "from core.nn import Linear, Network,batchnorm1d,Conv2d,MaxPool2d\n",
    "from core.Function import tanh,relu,softmax\n",
    "from core.loss import sparse_categorical_cross_entropy,mean_squared_error\n",
    "from core.utils import  gradient_check\n",
    "conv1 = Conv2d(input_channels=1, output_channels=8, kernel_size=3, stride=1, padding=1)\n",
    "max1 = MaxPool2d(kernel_size=2, stride=2)\n",
    "tanh1 = tanh()\n",
    "conv2 = Conv2d(input_channels=8, output_channels=16, kernel_size=3, stride=1, padding=1)\n",
    "tanh2 = tanh()\n",
    "max2 = MaxPool2d(kernel_size=2, stride=2)\n",
    "linear1 = Linear((16 * 7 * 7,50),activation=None)\n",
    "tanh3 = tanh()\n",
    "linear2 = Linear((50,10))\n",
    "softmaxx = softmax()\n",
    "\n",
    "layers = [conv1,tanh1,max1,conv2,tanh2,max2,linear1,tanh3,linear2,softmaxx]\n",
    "\n",
    "\n",
    "model_coco = Network(layers,classification=True)\n",
    "\n",
    "\n",
    "model_coco.train(train_images, train_labels, epochs=10, batch_size=64, learning_rate=0.001, optimizer=\"sgd\",verbose=1)\n",
    "#gradient_check(model_coco, test_images[:10], test_labels[:10], sparse_categorical_cross_entropy)"
   ]
  },
  {
   "cell_type": "code",
   "outputs": [
    {
     "name": "stdout",
     "output_type": "stream",
     "text": [
      "Model saved as model.pkl\n"
     ]
    }
   ],
   "source": [
    "from core.utils import save_model\n",
    "save_model(model_coco)"
   ],
   "metadata": {
    "collapsed": false,
    "ExecuteTime": {
     "end_time": "2025-02-03T16:50:17.636644Z",
     "start_time": "2025-02-03T16:50:17.603181Z"
    }
   },
   "id": "947f02bfa0ed74f4",
   "execution_count": 6
  },
  {
   "cell_type": "code",
   "execution_count": null,
   "id": "3bed658f",
   "metadata": {},
   "outputs": [],
   "source": [
    "model_coco.visualize_feature_maps(test_images[1])"
   ]
  },
  {
   "cell_type": "code",
   "execution_count": null,
   "id": "15f236ea",
   "metadata": {},
   "outputs": [],
   "source": [
    "model_coco.plot_loss()"
   ]
  },
  {
   "cell_type": "code",
   "execution_count": null,
   "id": "7fd36d54",
   "metadata": {},
   "outputs": [],
   "source": [
    "# Reshape test data for Conv2d input (example for MNIST)\n",
    "test_images_4d = test_images.reshape(-1, 1, 28, 28)  # Adjust dimensions as needed\n",
    "\n",
    "# Predict\n",
    "y_pred = model_coco.predict(test_images_4d)\n",
    "y_pred_classes = np.argmax(y_pred, axis=1, keepdims=True)\n",
    "\n",
    "# Use integer labels directly (if test_labels are not one-hot)\n",
    "y_true_classes = np.argmax(test_labels, axis=1, keepdims=True)  # Assuming test_labels are integers\n",
    "print(\"ypred_shape\",y_pred_classes.shape)\n",
    "print(\"y_true_shape\",y_true_classes.shape)\n",
    "# Calculate accuracy\n",
    "accuracy = np.mean(y_pred_classes == y_true_classes)\n",
    "print(f\"Accuracy on test set: {accuracy:.4f}\")"
   ]
  },
  {
   "cell_type": "code",
   "execution_count": null,
   "id": "3f4dee22",
   "metadata": {},
   "outputs": [],
   "source": [
    "import torch\n",
    "import torch.nn as nn\n",
    "import torch.optim as optim\n",
    "from torch.utils.data import DataLoader\n",
    "import torchvision\n",
    "import torchvision.transforms as transforms\n",
    "import time\n",
    "\n",
    "conv_forward_time = []\n",
    "conv_backward_time = []\n",
    "pool_forward_time = []\n",
    "pool_backward_time = []\n",
    "# Define the model (same as your original model)\n",
    "class FashionMNISTModel(nn.Module):\n",
    "    def __init__(self):\n",
    "        super(FashionMNISTModel, self).__init__()\n",
    "        self.conv1 = nn.Conv2d(in_channels=1, out_channels=8, kernel_size=3, stride=1, padding=1)\n",
    "        self.relu1 = nn.Tanh()\n",
    "        self.max1 = nn.MaxPool2d(kernel_size=2, stride=2)\n",
    "        self.conv2 = nn.Conv2d(in_channels=8, out_channels=16, kernel_size=3, stride=1, padding=1)\n",
    "        self.relu2 = nn.Tanh()\n",
    "        self.max2 = nn.MaxPool2d(kernel_size=2, stride=2)\n",
    "        self.flatten = nn.Flatten()\n",
    "        self.fc1 = nn.Linear(16 * 7 * 7, 50)  # Fully connected layer\n",
    "        self.relu3 = nn.Tanh()\n",
    "        self.fc2 = nn.Linear(50, 10)\n",
    "        \n",
    "\n",
    "    def forward(self, x):\n",
    "       \n",
    "        x = self.conv1(x)\n",
    "      \n",
    "        x = self.relu1(x)\n",
    "      \n",
    "        x = self.max1(x)\n",
    "        \n",
    "        x = self.conv2(x)\n",
    "        x = self.relu2(x)\n",
    "        x = self.max2(x)\n",
    "        x = self.flatten(x)\n",
    "        x = self.fc1(x)\n",
    "        x = self.relu3(x)\n",
    "        x = self.fc2(x)\n",
    "        \n",
    "        return x\n",
    "\n",
    "# Transform for normalizing the data\n",
    "transform = transforms.Compose([\n",
    "    transforms.ToTensor(),  # Convert image to PyTorch tensor\n",
    "    transforms.Normalize((0.5,), (0.5,))  # Normalize with mean 0.5 and std 0.5\n",
    "])\n",
    "\n",
    "# Load the FashionMNIST dataset from torchvision\n",
    "trainset = torchvision.datasets.FashionMNIST(root='./data', train=True, download=True, transform=transform)\n",
    "testset = torchvision.datasets.FashionMNIST(root='./data', train=False, download=True, transform=transform)\n",
    "\n",
    "# Create DataLoader for training and test datasets\n",
    "train_loader = DataLoader(trainset, batch_size=64, shuffle=True)\n",
    "test_loader = DataLoader(testset, batch_size=64, shuffle=False)\n",
    "\n",
    "# Instantiate the model, loss function, and optimizer\n",
    "model = FashionMNISTModel()\n",
    "criterion = nn.CrossEntropyLoss()  # Use raw class labels for CrossEntropyLoss\n",
    "optimizer = optim.SGD(model.parameters(), lr=0.001)\n",
    "forward_time = []\n",
    "backward_time = []\n",
    "# Training loop\n",
    "def train_model(model, train_loader, epochs, optimizer, criterion):\n",
    "    model.train()  # Set model to training mode\n",
    "    for epoch in range(1, epochs + 1):\n",
    "        epoch_loss = 0.0\n",
    "        for images, labels in train_loader:\n",
    "            optimizer.zero_grad()  # Zero gradients\n",
    "          \n",
    "            outputs = model(images)\n",
    "        \n",
    "            \n",
    "            loss = criterion(outputs, labels)  # Labels are in class indices format\n",
    "          \n",
    "            loss.backward()\n",
    "        \n",
    "            optimizer.step()\n",
    "            epoch_loss += loss.item()\n",
    "\n",
    "        avg_loss = epoch_loss / len(train_loader)\n",
    "        print(f'Epoch {epoch}/{epochs}, Loss: {avg_loss:.4f}')\n",
    "\n",
    "# Testing loop\n",
    "def test_model(model, test_loader):\n",
    "    model.eval()  # Set model to evaluation mode\n",
    "    correct = 0\n",
    "    total = 0\n",
    "    with torch.no_grad():  # Disable gradient calculation for testing\n",
    "        for images, labels in test_loader:\n",
    "            outputs = model(images)\n",
    "            _, predicted = torch.max(outputs, 1)  # Get the class with the highest probability\n",
    "            total += labels.size(0)\n",
    "            correct += (predicted == labels).sum().item()\n",
    "\n",
    "    accuracy = 100 * correct / total\n",
    "    print(f'Test Accuracy: {accuracy:.2f}%')\n",
    "\n",
    "# Train the model\n",
    "train_model(model, train_loader, epochs=10, optimizer=optimizer, criterion=criterion)\n",
    "\n",
    "# Test the model on test data\n",
    "test_model(model, test_loader)\n"
   ]
  },
  {
   "cell_type": "code",
   "execution_count": null,
   "id": "713583cf",
   "metadata": {},
   "outputs": [],
   "source": []
  }
 ],
 "metadata": {
  "kernelspec": {
   "display_name": "deeplearning",
   "language": "python",
   "name": "python3"
  },
  "language_info": {
   "codemirror_mode": {
    "name": "ipython",
    "version": 3
   },
   "file_extension": ".py",
   "mimetype": "text/x-python",
   "name": "python",
   "nbconvert_exporter": "python",
   "pygments_lexer": "ipython3",
   "version": "3.12.8"
  }
 },
 "nbformat": 4,
 "nbformat_minor": 5
}
