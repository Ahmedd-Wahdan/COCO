{
 "cells": [
  {
   "cell_type": "markdown",
   "id": "f067ce0f",
   "metadata": {},
   "source": [
    "# BRIEF\n",
    "IT NOW CAN PERFORM REGRESSION AND multi class CLASSIFICATION\n",
    "\n"
   ]
  },
  {
   "cell_type": "markdown",
   "id": "66146b8c",
   "metadata": {},
   "source": []
  },
  {
   "cell_type": "code",
   "execution_count": 1,
   "id": "68f5cced",
   "metadata": {},
   "outputs": [],
   "source": [
    "import torch\n",
    "import torch.nn as nn\n",
    "import torch.optim as optim\n",
    "from torch.utils.data import DataLoader\n",
    "import torchvision\n",
    "import torchvision.transforms as transforms\n",
    "import time\n",
    "import numpy as np\n",
    "from sklearn.datasets import fetch_openml\n",
    "from sklearn.preprocessing import OneHotEncoder\n",
    "from core.nn import Linear,batchnorm1d,Conv2d,MaxPool2d\n",
    "from core.Models import Model\n",
    "from core.Function import tanh,relu,softmax"
   ]
  },
  {
   "cell_type": "code",
   "execution_count": 2,
   "id": "27935ed0",
   "metadata": {
    "ExecuteTime": {
     "end_time": "2025-02-03T16:36:01.650154Z",
     "start_time": "2025-02-03T16:35:50.029303Z"
    }
   },
   "outputs": [
    {
     "name": "stdout",
     "output_type": "stream",
     "text": [
      "Train images shape: (60000, 784)\n",
      "Train labels shape: (60000, 10)\n",
      "Test images shape: (10000, 784)\n",
      "Test labels shape: (10000, 10)\n"
     ]
    }
   ],
   "source": [
    "\n",
    "\n",
    "# Load Fashion MNIST dataset using Scikit-Learn\n",
    "fashion_mnist = fetch_openml('Fashion-MNIST', version=1, as_frame=False)\n",
    "images, labels = fashion_mnist[\"data\"], fashion_mnist[\"target\"].astype(int)\n",
    "\n",
    "# Normalize pixel values to the range [0, 1]\n",
    "images = images.astype('float32') / 255.0\n",
    "\n",
    "# Reshape images from (num_samples, 784) to (num_samples, 1, 28, 28)\n",
    "images = images.reshape((-1, 28*28))  # Convert to 4D for Conv2D: [B, C, H, W]\n",
    "\n",
    "# Split into train and test sets\n",
    "train_images_2d, test_images_2d = images[:60000], images[60000:]\n",
    "train_labels_2d, test_labels_2d = labels[:60000], labels[60000:]\n",
    "\n",
    "# One-hot encode the labels\n",
    "encoder = OneHotEncoder()\n",
    "train_labels_2d = encoder.fit_transform(train_labels_2d.reshape(-1, 1)).toarray()\n",
    "test_labels_2d = encoder.transform(test_labels_2d.reshape(-1, 1)).toarray()\n",
    "\n",
    "# Print shapes to verify\n",
    "print(\"Train images shape:\", train_images_2d.shape)  # (60000, 784)\n",
    "print(\"Train labels shape:\", train_labels_2d.shape)  # (60000, 10)\n",
    "print(\"Test images shape:\", test_images_2d.shape)    # (10000, 784)\n",
    "print(\"Test labels shape:\", test_labels_2d.shape)    # (10000, 10)\n"
   ]
  },
  {
   "cell_type": "code",
   "execution_count": 3,
   "id": "209c7fe2",
   "metadata": {},
   "outputs": [],
   "source": [
    "# Define the model (same as your original model)\n",
    "class FashionMNISTModel(nn.Module):\n",
    "    def __init__(self):\n",
    "        super(FashionMNISTModel, self).__init__()\n",
    "        self.conv1 = nn.Conv2d(in_channels=1, out_channels=8, kernel_size=3, stride=1, padding=1)\n",
    "        self.tanh1 = nn.Tanh()\n",
    "        self.max1 = nn.MaxPool2d(kernel_size=2, stride=2)\n",
    "        self.conv2 = nn.Conv2d(in_channels=8, out_channels=16, kernel_size=3, stride=1, padding=1)\n",
    "        self.tanh2 = nn.Tanh()\n",
    "        self.max2 = nn.MaxPool2d(kernel_size=2, stride=2)\n",
    "        self.flatten = nn.Flatten()\n",
    "        self.fc1 = nn.Linear(16 * 7 * 7, 50)  # Fully connected layer\n",
    "        self.tanh3 = nn.Tanh()\n",
    "        self.fc2 = nn.Linear(50, 10)\n",
    "        \n",
    "\n",
    "    def forward(self, x):\n",
    "       \n",
    "        x = self.conv1(x)\n",
    "      \n",
    "        x = self.tanh1(x)\n",
    "      \n",
    "        x = self.max1(x)\n",
    "        \n",
    "        x = self.conv2(x)\n",
    "        x = self.tanh2(x)\n",
    "        x = self.max2(x)\n",
    "        x = self.flatten(x)\n",
    "        x = self.fc1(x)\n",
    "        x = self.tanh3(x)\n",
    "        x = self.fc2(x)\n",
    "        \n",
    "        return x\n",
    "\n",
    "# Transform for normalizing the data\n",
    "transform = transforms.Compose([\n",
    "    transforms.ToTensor(),  # Convert image to PyTorch tensor\n",
    "    transforms.Normalize((0.5,), (0.5,))  # Normalize with mean 0.5 and std 0.5\n",
    "])\n",
    "\n",
    "# Load the FashionMNIST dataset from torchvision\n",
    "trainset = torchvision.datasets.FashionMNIST(root='./data', train=True, download=True, transform=transform)\n",
    "testset = torchvision.datasets.FashionMNIST(root='./data', train=False, download=True, transform=transform)\n",
    "\n",
    "# Create DataLoader for training and test datasets\n",
    "train_loader = DataLoader(trainset, batch_size=64, shuffle=True)\n",
    "test_loader = DataLoader(testset, batch_size=64, shuffle=False)\n",
    "\n",
    "# Instantiate the model, loss function, and optimizer\n",
    "model = FashionMNISTModel()\n",
    "criterion = nn.CrossEntropyLoss()  # Use raw class labels for CrossEntropyLoss\n",
    "optimizer = optim.SGD(model.parameters(), lr=0.001)\n"
   ]
  },
  {
   "cell_type": "code",
   "execution_count": 4,
   "id": "e237b2fa",
   "metadata": {
    "ExecuteTime": {
     "end_time": "2025-02-03T16:37:29.920056Z",
     "start_time": "2025-02-03T16:37:21.943865Z"
    }
   },
   "outputs": [
    {
     "name": "stdout",
     "output_type": "stream",
     "text": [
      "Train images shape: (60000, 1, 28, 28)\n",
      "Train labels shape: (60000, 10)\n",
      "Test images shape: (10000, 1, 28, 28)\n",
      "Test labels shape: (10000, 10)\n"
     ]
    }
   ],
   "source": [
    "\n",
    "\n",
    "# Load Fashion MNIST dataset using Scikit-Learn\n",
    "fashion_mnist = fetch_openml('Fashion-MNIST', version=1, as_frame=False)\n",
    "images, labels = fashion_mnist[\"data\"], fashion_mnist[\"target\"].astype(int)\n",
    "\n",
    "# Normalize pixel values to the range [0, 1]\n",
    "images = images.astype('float32') / 255.0\n",
    "\n",
    "# Reshape images from (num_samples, 784) to (num_samples, 1, 28, 28)\n",
    "images = images.reshape((-1, 1, 28, 28))  # Convert to 4D for Conv2D: [B, C, H, W]\n",
    "\n",
    "# Split into train and test sets\n",
    "train_images, test_images = images[:60000], images[60000:]\n",
    "train_labels, test_labels = labels[:60000], labels[60000:]\n",
    "\n",
    "# One-hot encode the labels\n",
    "encoder = OneHotEncoder()\n",
    "train_labels = encoder.fit_transform(train_labels.reshape(-1, 1)).toarray()\n",
    "test_labels = encoder.transform(test_labels.reshape(-1, 1)).toarray()\n",
    "\n",
    "# Print shapes to verify\n",
    "print(\"Train images shape:\", train_images.shape)  # (60000, 1, 28, 28)\n",
    "print(\"Train labels shape:\", train_labels.shape)  # (60000, 10)\n",
    "print(\"Test images shape:\", test_images.shape)    # (10000, 1, 28, 28)\n",
    "print(\"Test labels shape:\", test_labels.shape)    # (10000, 10)\n"
   ]
  },
  {
   "cell_type": "code",
   "execution_count": null,
   "id": "b4e16287",
   "metadata": {
    "ExecuteTime": {
     "end_time": "2025-02-03T16:49:31.189808Z",
     "start_time": "2025-02-03T16:37:34.706800Z"
    }
   },
   "outputs": [
    {
     "name": "stdout",
     "output_type": "stream",
     "text": [
      "Model Summary:\n",
      "==================================================\n",
      "conv1: Conv2d\n",
      "  Weights: (8, 1, 3, 3)\n",
      "  Bias: (1, 8, 1, 1)\n",
      "tanh1: tanh\n",
      "max1: MaxPool2d\n",
      "conv2: Conv2d\n",
      "  Weights: (16, 8, 3, 3)\n",
      "  Bias: (1, 16, 1, 1)\n",
      "tanh2: tanh\n",
      "max2: MaxPool2d\n",
      "linear1: Linear\n",
      "  Weights: (784, 50)\n",
      "  Bias: (1, 50)\n",
      "tanh3: tanh\n",
      "linear2: Linear\n",
      "  Weights: (50, 10)\n",
      "  Bias: (1, 10)\n",
      "softmaxx: softmax\n",
      "==================================================\n"
     ]
    }
   ],
   "source": [
    "class model(Model):\n",
    "    def __init__(self):\n",
    "        super().__init__()\n",
    "        self.conv1 = Conv2d(input_channels=1, output_channels=8, kernel_size=3, stride=1, padding=1,initialize_type='xavier')\n",
    "        self.tanh1 = tanh()\n",
    "        self.max1 = MaxPool2d(kernel_size=2, stride=2)\n",
    "        self.conv2 = Conv2d(input_channels=8, output_channels=16, kernel_size=3, stride=1, padding=1,initialize_type='xavier')\n",
    "        self.tanh2 = tanh()\n",
    "        self.max2 = MaxPool2d(kernel_size=2, stride=2)\n",
    "        self.linear1 = Linear((16 * 7 * 7,50),initialize_type='xavier')\n",
    "        self.tanh3 = tanh()\n",
    "        self.linear2 = Linear((50,10),initialize_type='xavier')\n",
    "        self.softmaxx = softmax()\n",
    "\n",
    "    def forward(self, x):\n",
    "        x = self.conv1(x)\n",
    "        x = self.tanh1(x)\n",
    "        x = self.max1(x)\n",
    "        x = self.conv2(x)\n",
    "        x = self.tanh2(x)\n",
    "        x = self.max2(x)\n",
    "        x = self.linear1(x)\n",
    "        x = self.tanh3(x)\n",
    "        x = self.linear2(x)\n",
    "        x = self.softmaxx(x)\n",
    "        return x\n",
    "    \n",
    "\n",
    "model_coco = model()\n",
    "model_coco.summary()\t\n",
    "\n",
    "model_coco.train(train_images, train_labels, epochs=10, batch_size=64, learning_rate=0.001, optimizer=\"sgd\",verbose=1)"
   ]
  },
  {
   "cell_type": "code",
   "execution_count": 6,
   "id": "2ec8179d",
   "metadata": {},
   "outputs": [
    {
     "name": "stdout",
     "output_type": "stream",
     "text": [
      "Epoch 1/10 | Epoch Loss = 1.9543\n",
      "Epoch 2/10 | Epoch Loss = 1.2344\n",
      "Epoch 3/10 | Epoch Loss = 0.9666\n",
      "Epoch 4/10 | Epoch Loss = 0.8596\n",
      "Epoch 5/10 | Epoch Loss = 0.7931\n",
      "Epoch 6/10 | Epoch Loss = 0.7443\n",
      "Epoch 7/10 | Epoch Loss = 0.7062\n",
      "Epoch 8/10 | Epoch Loss = 0.6757\n",
      "Epoch 9/10 | Epoch Loss = 0.6506\n",
      "Epoch 10/10 | Epoch Loss = 0.6300\n",
      "\n"
     ]
    }
   ],
   "source": []
  },
  {
   "cell_type": "code",
   "execution_count": 7,
   "id": "7fd36d54",
   "metadata": {},
   "outputs": [
    {
     "name": "stdout",
     "output_type": "stream",
     "text": [
      "ypred_shape (10000, 1)\n",
      "y_true_shape (10000, 1)\n",
      "Accuracy on test set: 0.7731\n"
     ]
    }
   ],
   "source": [
    "# Reshape test data for Conv2d input (example for MNIST)\n",
    "test_images_4d = test_images.reshape(-1, 1, 28, 28)  # Adjust dimensions as needed\n",
    "\n",
    "# Predict\n",
    "y_pred = model_coco(test_images_4d)\n",
    "y_pred_classes = np.argmax(y_pred, axis=1, keepdims=True)\n",
    "\n",
    "# Use integer labels directly (if test_labels are not one-hot)\n",
    "y_true_classes = np.argmax(test_labels, axis=1, keepdims=True)  # Assuming test_labels are integers\n",
    "print(\"ypred_shape\",y_pred_classes.shape)\n",
    "print(\"y_true_shape\",y_true_classes.shape)\n",
    "# Calculate accuracy\n",
    "accuracy = np.mean(y_pred_classes == y_true_classes)\n",
    "print(f\"Accuracy on test set: {accuracy:.4f}\")"
   ]
  },
  {
   "cell_type": "code",
   "execution_count": null,
   "id": "3f4dee22",
   "metadata": {},
   "outputs": [],
   "source": [
    "\n",
    "# Training loop\n",
    "\n",
    "def train_model(model, train_loader, epochs, optimizer, criterion):\n",
    "    model.train()  # Set model to training mode\n",
    "    for epoch in range(1, epochs + 1):\n",
    "        epoch_loss = 0.0\n",
    "        for images, labels in train_loader:\n",
    "            optimizer.zero_grad()  # Zero gradients\n",
    "          \n",
    "            outputs = model(images)\n",
    "        \n",
    "            \n",
    "            loss = criterion(outputs, labels)  # Labels are in class indices format\n",
    "          \n",
    "            loss.backward()\n",
    "        \n",
    "            optimizer.step()\n",
    "            epoch_loss += loss.item()\n",
    "\n",
    "        avg_loss = epoch_loss / len(train_loader)\n",
    "        print(f'Epoch {epoch}/{epochs}, Loss: {avg_loss:.4f}')\n",
    "\n",
    "# Testing loop\n",
    "\n",
    "\n",
    "# Train the model\n",
    "train_model(model, train_loader, epochs=10, optimizer=optimizer, criterion=criterion)\n",
    "\n",
    "# Test the model on test data\n",
    "\n"
   ]
  },
  {
   "cell_type": "code",
   "execution_count": null,
   "id": "713583cf",
   "metadata": {},
   "outputs": [],
   "source": [
    "def test_model(model, test_loader):\n",
    "    model.eval()  # Set model to evaluation mode\n",
    "    correct = 0\n",
    "    total = 0\n",
    "    with torch.no_grad():  # Disable gradient calculation for testing\n",
    "        for images, labels in test_loader:\n",
    "            outputs = model(images)\n",
    "            _, predicted = torch.max(outputs, 1)  # Get the class with the highest probability\n",
    "            total += labels.size(0)\n",
    "            correct += (predicted == labels).sum().item()\n",
    "\n",
    "    accuracy = 100 * correct / total\n",
    "    print(f'Test Accuracy: {accuracy:.2f}%')\n",
    "\n",
    "test_model(model, test_loader)"
   ]
  },
  {
   "cell_type": "code",
   "execution_count": null,
   "id": "16f49542",
   "metadata": {},
   "outputs": [],
   "source": []
  },
  {
   "cell_type": "code",
   "execution_count": null,
   "id": "3f02435e",
   "metadata": {},
   "outputs": [],
   "source": []
  }
 ],
 "metadata": {
  "kernelspec": {
   "display_name": "deeplearning",
   "language": "python",
   "name": "python3"
  },
  "language_info": {
   "codemirror_mode": {
    "name": "ipython",
    "version": 3
   },
   "file_extension": ".py",
   "mimetype": "text/x-python",
   "name": "python",
   "nbconvert_exporter": "python",
   "pygments_lexer": "ipython3",
   "version": "3.12.8"
  }
 },
 "nbformat": 4,
 "nbformat_minor": 5
}
