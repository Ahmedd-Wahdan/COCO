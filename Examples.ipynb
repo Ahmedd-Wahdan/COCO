{
 "cells": [
  {
   "cell_type": "markdown",
   "id": "f067ce0f",
   "metadata": {},
   "source": [
    "# BRIEF\n",
    "IT NOW CAN PERFORM REGRESSION AND multi class CLASSIFICATION\n",
    "\n"
   ]
  },
  {
   "cell_type": "code",
   "execution_count": 1,
   "id": "913fb9a5",
   "metadata": {},
   "outputs": [
    {
     "name": "stdout",
     "output_type": "stream",
     "text": [
      "Train images shape: (60000, 784)\n",
      "Train labels shape: (60000, 10)\n",
      "Test images shape: (10000, 784)\n",
      "Test labels shape: (10000, 10)\n",
      "x_train_batches shape: (937, 64, 784)\n",
      "y_train_batches shape: (937, 64, 10)\n"
     ]
    }
   ],
   "source": [
    "import numpy as np\n",
    "from sklearn.datasets import fetch_openml\n",
    "from sklearn.preprocessing import OneHotEncoder\n",
    "\n",
    "# Load Fashion MNIST dataset using Scikit-Learn\n",
    "fashion_mnist = fetch_openml('Fashion-MNIST', version=1, as_frame=False)\n",
    "images, labels = fashion_mnist[\"data\"], fashion_mnist[\"target\"].astype(int)\n",
    "\n",
    "# Normalize pixel values to the range [0, 1]\n",
    "images = images.astype('float32') / 255.0\n",
    "\n",
    "# Reshape images from (num_samples, 784) to (num_samples, 28, 28, 1)\n",
    "images = images.reshape((-1, 28, 28, 1))\n",
    "\n",
    "# Split into train and test sets\n",
    "train_images, test_images = images[:60000], images[60000:]\n",
    "train_labels, test_labels = labels[:60000], labels[60000:]\n",
    "\n",
    "# One-hot encode the labels\n",
    "encoder = OneHotEncoder()  # No need for sparse=False\n",
    "train_labels = encoder.fit_transform(train_labels.reshape(-1, 1))\n",
    "test_labels = encoder.transform(test_labels.reshape(-1, 1))\n",
    "\n",
    "# Flatten the images to (num_samples, 28 * 28)\n",
    "train_images = train_images.reshape((-1, 28 * 28))\n",
    "test_images = test_images.reshape((-1, 28 * 28))\n",
    "\n",
    "# Print shapes to verify\n",
    "print(\"Train images shape:\", train_images.shape)  # (60000, 784)\n",
    "print(\"Train labels shape:\", train_labels.shape)  # (60000, 10)\n",
    "print(\"Test images shape:\", test_images.shape)    # (10000, 784)\n",
    "print(\"Test labels shape:\", test_labels.shape)    # (10000, 10)\n",
    "\n",
    "# Reshape into batches\n",
    "batch_size = 64  # Example batch size\n",
    "num_batches = train_images.shape[0] // batch_size\n",
    "\n",
    "# Reshape x_train to (num_batches, batch_size, 784)\n",
    "x_train_batches = train_images[:num_batches * batch_size].reshape((num_batches, batch_size, 784))\n",
    "\n",
    "# Convert sparse matrix to dense NumPy array\n",
    "train_labels_dense = train_labels.toarray()\n",
    "\n",
    "# Reshape y_train to (num_batches, batch_size, 10)\n",
    "y_train_batches = train_labels_dense[:num_batches * batch_size].reshape((num_batches, batch_size, 10))\n",
    "\n",
    "# Print shapes of batches\n",
    "print(\"x_train_batches shape:\", x_train_batches.shape)  # (num_batches, batch_size, 784)\n",
    "print(\"y_train_batches shape:\", y_train_batches.shape)  # (num_batches, batch_size, 10)"
   ]
  },
  {
   "cell_type": "markdown",
   "id": "66146b8c",
   "metadata": {},
   "source": []
  },
  {
   "cell_type": "code",
   "execution_count": 2,
   "id": "b4e16287",
   "metadata": {},
   "outputs": [
    {
     "name": "stdout",
     "output_type": "stream",
     "text": [
      "weights (784, 128)\n",
      "bias (1, 128)\n",
      "weights (128, 64)\n",
      "bias (1, 64)\n",
      "weights (64, 10)\n",
      "bias (1, 10)\n",
      "Epoch 30/30 | [||||||||||||||||||||||||||||||||||||||||||||||||||||||||||||||||||||||||||||||||||||||||||||||||||||] 100.00% | Train Loss = 0.1388\n",
      "Function train took 118.3716 seconds to execute.\n"
     ]
    }
   ],
   "source": [
    "from core.nn import Linear, Network,batchnorm1d\n",
    "layer1 = Linear((784, 128), activation=\"tanh\",initialize_type=\"xavier\")\n",
    "bn1 = batchnorm1d(128)\n",
    "layer2 = Linear((128, 64), activation=\"tanh\",initialize_type=\"xavier\")\n",
    "bn2 = batchnorm1d(64)\n",
    "layer3 = Linear((64, 10), activation=\"softmax\",initialize_type=\"xavier\")\n",
    "layers = [layer1,bn1,layer2,bn2,layer3]\n",
    "model = Network(layers,classification=True)\n",
    "model.train(train_images, train_labels, epochs=30, batch_size=64, learning_rate=0.001, optimizer=\"adam\",verbose=1)"
   ]
  },
  {
   "cell_type": "code",
   "execution_count": 3,
   "id": "15f236ea",
   "metadata": {},
   "outputs": [
    {
     "data": {
      "image/png": "[encoded data removed]",
      "text/plain": [
       "<Figure size 640x480 with 1 Axes>"
      ]
     },
     "metadata": {},
     "output_type": "display_data"
    }
   ],
   "source": [
    "model.plot_loss()"
   ]
  },
  {
   "cell_type": "code",
   "execution_count": 4,
   "id": "7fd36d54",
   "metadata": {},
   "outputs": [
    {
     "name": "stdout",
     "output_type": "stream",
     "text": [
      "Accuracy on test set: 0.8865\n"
     ]
    }
   ],
   "source": [
    "y_pred = model.predict(test_images)\n",
    "y_pred_classes = np.argmax(y_pred, axis=1)  # This will give the class index for each sample\n",
    "y_true_classes = np.argmax(test_labels, axis=1)  # This will give the true class index for each sample\n",
    "\n",
    "# Calculate accuracy\n",
    "accuracy = np.mean(y_pred_classes == y_true_classes.T)\n",
    "print(f\"Accuracy on test set: {accuracy:.4f}\")\n"
   ]
  },
  {
   "cell_type": "code",
   "execution_count": null,
   "id": "c1cb504d",
   "metadata": {},
   "outputs": [],
   "source": []
  }
 ],
 "metadata": {
  "kernelspec": {
   "display_name": ".venv",
   "language": "python",
   "name": "python3"
  },
  "language_info": {
   "codemirror_mode": {
    "name": "ipython",
    "version": 3
   },
   "file_extension": ".py",
   "mimetype": "text/x-python",
   "name": "python",
   "nbconvert_exporter": "python",
   "pygments_lexer": "ipython3",
   "version": "3.12.8"
  }
 },
 "nbformat": 4,
 "nbformat_minor": 5
}
